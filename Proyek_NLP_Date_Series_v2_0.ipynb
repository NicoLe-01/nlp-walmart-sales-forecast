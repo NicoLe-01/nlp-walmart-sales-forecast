{
  "nbformat": 4,
  "nbformat_minor": 0,
  "metadata": {
    "colab": {
      "name": "Proyek NLP Date Series v2.0.ipynb",
      "provenance": []
    },
    "kernelspec": {
      "name": "python3",
      "display_name": "Python 3"
    },
    "language_info": {
      "name": "python"
    }
  },
  "cells": [
    {
      "cell_type": "markdown",
      "source": [
        "Dataset : https://www.kaggle.com/datasets/aslanahmedov/walmart-sales-forecast"
      ],
      "metadata": {
        "id": "Fk3isnCTZgUA"
      }
    },
    {
      "cell_type": "markdown",
      "source": [
        "Import Modul"
      ],
      "metadata": {
        "id": "QVr6D1uzZp1K"
      }
    },
    {
      "cell_type": "code",
      "execution_count": 80,
      "metadata": {
        "id": "CYpRwajCNS2C"
      },
      "outputs": [],
      "source": [
        "import pandas as pd\n",
        "import matplotlib.pyplot as plt\n",
        "import tensorflow as tf\n",
        "import numpy as np\n",
        "from sklearn.model_selection import train_test_split\n",
        "from sklearn.preprocessing import MinMaxScaler"
      ]
    },
    {
      "cell_type": "markdown",
      "source": [
        "Baca Dataset"
      ],
      "metadata": {
        "id": "s25m4O7TZ18P"
      }
    },
    {
      "cell_type": "code",
      "source": [
        "df = pd.read_csv('/content/train.csv')"
      ],
      "metadata": {
        "id": "_UrdTmsJOrPP"
      },
      "execution_count": 81,
      "outputs": []
    },
    {
      "cell_type": "code",
      "source": [
        "df.tail()"
      ],
      "metadata": {
        "colab": {
          "base_uri": "https://localhost:8080/",
          "height": 206
        },
        "id": "_Qeq_OPfN78S",
        "outputId": "b2f2a108-d773-4102-fd80-fcefba00ac05"
      },
      "execution_count": 82,
      "outputs": [
        {
          "output_type": "execute_result",
          "data": {
            "text/plain": [
              "        Store  Dept        Date  Weekly_Sales  IsHoliday\n",
              "421565     45    98  2012-09-28        508.37      False\n",
              "421566     45    98  2012-10-05        628.10      False\n",
              "421567     45    98  2012-10-12       1061.02      False\n",
              "421568     45    98  2012-10-19        760.01      False\n",
              "421569     45    98  2012-10-26       1076.80      False"
            ],
            "text/html": [
              "\n",
              "  <div id=\"df-ce329997-a6aa-4e64-a107-ae105d7843fd\">\n",
              "    <div class=\"colab-df-container\">\n",
              "      <div>\n",
              "<style scoped>\n",
              "    .dataframe tbody tr th:only-of-type {\n",
              "        vertical-align: middle;\n",
              "    }\n",
              "\n",
              "    .dataframe tbody tr th {\n",
              "        vertical-align: top;\n",
              "    }\n",
              "\n",
              "    .dataframe thead th {\n",
              "        text-align: right;\n",
              "    }\n",
              "</style>\n",
              "<table border=\"1\" class=\"dataframe\">\n",
              "  <thead>\n",
              "    <tr style=\"text-align: right;\">\n",
              "      <th></th>\n",
              "      <th>Store</th>\n",
              "      <th>Dept</th>\n",
              "      <th>Date</th>\n",
              "      <th>Weekly_Sales</th>\n",
              "      <th>IsHoliday</th>\n",
              "    </tr>\n",
              "  </thead>\n",
              "  <tbody>\n",
              "    <tr>\n",
              "      <th>421565</th>\n",
              "      <td>45</td>\n",
              "      <td>98</td>\n",
              "      <td>2012-09-28</td>\n",
              "      <td>508.37</td>\n",
              "      <td>False</td>\n",
              "    </tr>\n",
              "    <tr>\n",
              "      <th>421566</th>\n",
              "      <td>45</td>\n",
              "      <td>98</td>\n",
              "      <td>2012-10-05</td>\n",
              "      <td>628.10</td>\n",
              "      <td>False</td>\n",
              "    </tr>\n",
              "    <tr>\n",
              "      <th>421567</th>\n",
              "      <td>45</td>\n",
              "      <td>98</td>\n",
              "      <td>2012-10-12</td>\n",
              "      <td>1061.02</td>\n",
              "      <td>False</td>\n",
              "    </tr>\n",
              "    <tr>\n",
              "      <th>421568</th>\n",
              "      <td>45</td>\n",
              "      <td>98</td>\n",
              "      <td>2012-10-19</td>\n",
              "      <td>760.01</td>\n",
              "      <td>False</td>\n",
              "    </tr>\n",
              "    <tr>\n",
              "      <th>421569</th>\n",
              "      <td>45</td>\n",
              "      <td>98</td>\n",
              "      <td>2012-10-26</td>\n",
              "      <td>1076.80</td>\n",
              "      <td>False</td>\n",
              "    </tr>\n",
              "  </tbody>\n",
              "</table>\n",
              "</div>\n",
              "      <button class=\"colab-df-convert\" onclick=\"convertToInteractive('df-ce329997-a6aa-4e64-a107-ae105d7843fd')\"\n",
              "              title=\"Convert this dataframe to an interactive table.\"\n",
              "              style=\"display:none;\">\n",
              "        \n",
              "  <svg xmlns=\"http://www.w3.org/2000/svg\" height=\"24px\"viewBox=\"0 0 24 24\"\n",
              "       width=\"24px\">\n",
              "    <path d=\"M0 0h24v24H0V0z\" fill=\"none\"/>\n",
              "    <path d=\"M18.56 5.44l.94 2.06.94-2.06 2.06-.94-2.06-.94-.94-2.06-.94 2.06-2.06.94zm-11 1L8.5 8.5l.94-2.06 2.06-.94-2.06-.94L8.5 2.5l-.94 2.06-2.06.94zm10 10l.94 2.06.94-2.06 2.06-.94-2.06-.94-.94-2.06-.94 2.06-2.06.94z\"/><path d=\"M17.41 7.96l-1.37-1.37c-.4-.4-.92-.59-1.43-.59-.52 0-1.04.2-1.43.59L10.3 9.45l-7.72 7.72c-.78.78-.78 2.05 0 2.83L4 21.41c.39.39.9.59 1.41.59.51 0 1.02-.2 1.41-.59l7.78-7.78 2.81-2.81c.8-.78.8-2.07 0-2.86zM5.41 20L4 18.59l7.72-7.72 1.47 1.35L5.41 20z\"/>\n",
              "  </svg>\n",
              "      </button>\n",
              "      \n",
              "  <style>\n",
              "    .colab-df-container {\n",
              "      display:flex;\n",
              "      flex-wrap:wrap;\n",
              "      gap: 12px;\n",
              "    }\n",
              "\n",
              "    .colab-df-convert {\n",
              "      background-color: #E8F0FE;\n",
              "      border: none;\n",
              "      border-radius: 50%;\n",
              "      cursor: pointer;\n",
              "      display: none;\n",
              "      fill: #1967D2;\n",
              "      height: 32px;\n",
              "      padding: 0 0 0 0;\n",
              "      width: 32px;\n",
              "    }\n",
              "\n",
              "    .colab-df-convert:hover {\n",
              "      background-color: #E2EBFA;\n",
              "      box-shadow: 0px 1px 2px rgba(60, 64, 67, 0.3), 0px 1px 3px 1px rgba(60, 64, 67, 0.15);\n",
              "      fill: #174EA6;\n",
              "    }\n",
              "\n",
              "    [theme=dark] .colab-df-convert {\n",
              "      background-color: #3B4455;\n",
              "      fill: #D2E3FC;\n",
              "    }\n",
              "\n",
              "    [theme=dark] .colab-df-convert:hover {\n",
              "      background-color: #434B5C;\n",
              "      box-shadow: 0px 1px 3px 1px rgba(0, 0, 0, 0.15);\n",
              "      filter: drop-shadow(0px 1px 2px rgba(0, 0, 0, 0.3));\n",
              "      fill: #FFFFFF;\n",
              "    }\n",
              "  </style>\n",
              "\n",
              "      <script>\n",
              "        const buttonEl =\n",
              "          document.querySelector('#df-ce329997-a6aa-4e64-a107-ae105d7843fd button.colab-df-convert');\n",
              "        buttonEl.style.display =\n",
              "          google.colab.kernel.accessAllowed ? 'block' : 'none';\n",
              "\n",
              "        async function convertToInteractive(key) {\n",
              "          const element = document.querySelector('#df-ce329997-a6aa-4e64-a107-ae105d7843fd');\n",
              "          const dataTable =\n",
              "            await google.colab.kernel.invokeFunction('convertToInteractive',\n",
              "                                                     [key], {});\n",
              "          if (!dataTable) return;\n",
              "\n",
              "          const docLinkHtml = 'Like what you see? Visit the ' +\n",
              "            '<a target=\"_blank\" href=https://colab.research.google.com/notebooks/data_table.ipynb>data table notebook</a>'\n",
              "            + ' to learn more about interactive tables.';\n",
              "          element.innerHTML = '';\n",
              "          dataTable['output_type'] = 'display_data';\n",
              "          await google.colab.output.renderOutput(dataTable, element);\n",
              "          const docLink = document.createElement('div');\n",
              "          docLink.innerHTML = docLinkHtml;\n",
              "          element.appendChild(docLink);\n",
              "        }\n",
              "      </script>\n",
              "    </div>\n",
              "  </div>\n",
              "  "
            ]
          },
          "metadata": {},
          "execution_count": 82
        }
      ]
    },
    {
      "cell_type": "markdown",
      "source": [
        "Hilangkan kolom Store, Dept, IsHoliday"
      ],
      "metadata": {
        "id": "vMhZTGMzZwPo"
      }
    },
    {
      "cell_type": "code",
      "source": [
        "df.drop(columns=['Store', 'Dept', 'IsHoliday'])"
      ],
      "metadata": {
        "colab": {
          "base_uri": "https://localhost:8080/",
          "height": 424
        },
        "id": "8MNzjOr5N9xa",
        "outputId": "7475df61-9422-4bf0-ad72-ed57cd95aff7"
      },
      "execution_count": 83,
      "outputs": [
        {
          "output_type": "execute_result",
          "data": {
            "text/plain": [
              "              Date  Weekly_Sales\n",
              "0       2010-02-05      24924.50\n",
              "1       2010-02-12      46039.49\n",
              "2       2010-02-19      41595.55\n",
              "3       2010-02-26      19403.54\n",
              "4       2010-03-05      21827.90\n",
              "...            ...           ...\n",
              "421565  2012-09-28        508.37\n",
              "421566  2012-10-05        628.10\n",
              "421567  2012-10-12       1061.02\n",
              "421568  2012-10-19        760.01\n",
              "421569  2012-10-26       1076.80\n",
              "\n",
              "[421570 rows x 2 columns]"
            ],
            "text/html": [
              "\n",
              "  <div id=\"df-1df2a22f-37e7-42e1-b48d-7bb78ee3bf15\">\n",
              "    <div class=\"colab-df-container\">\n",
              "      <div>\n",
              "<style scoped>\n",
              "    .dataframe tbody tr th:only-of-type {\n",
              "        vertical-align: middle;\n",
              "    }\n",
              "\n",
              "    .dataframe tbody tr th {\n",
              "        vertical-align: top;\n",
              "    }\n",
              "\n",
              "    .dataframe thead th {\n",
              "        text-align: right;\n",
              "    }\n",
              "</style>\n",
              "<table border=\"1\" class=\"dataframe\">\n",
              "  <thead>\n",
              "    <tr style=\"text-align: right;\">\n",
              "      <th></th>\n",
              "      <th>Date</th>\n",
              "      <th>Weekly_Sales</th>\n",
              "    </tr>\n",
              "  </thead>\n",
              "  <tbody>\n",
              "    <tr>\n",
              "      <th>0</th>\n",
              "      <td>2010-02-05</td>\n",
              "      <td>24924.50</td>\n",
              "    </tr>\n",
              "    <tr>\n",
              "      <th>1</th>\n",
              "      <td>2010-02-12</td>\n",
              "      <td>46039.49</td>\n",
              "    </tr>\n",
              "    <tr>\n",
              "      <th>2</th>\n",
              "      <td>2010-02-19</td>\n",
              "      <td>41595.55</td>\n",
              "    </tr>\n",
              "    <tr>\n",
              "      <th>3</th>\n",
              "      <td>2010-02-26</td>\n",
              "      <td>19403.54</td>\n",
              "    </tr>\n",
              "    <tr>\n",
              "      <th>4</th>\n",
              "      <td>2010-03-05</td>\n",
              "      <td>21827.90</td>\n",
              "    </tr>\n",
              "    <tr>\n",
              "      <th>...</th>\n",
              "      <td>...</td>\n",
              "      <td>...</td>\n",
              "    </tr>\n",
              "    <tr>\n",
              "      <th>421565</th>\n",
              "      <td>2012-09-28</td>\n",
              "      <td>508.37</td>\n",
              "    </tr>\n",
              "    <tr>\n",
              "      <th>421566</th>\n",
              "      <td>2012-10-05</td>\n",
              "      <td>628.10</td>\n",
              "    </tr>\n",
              "    <tr>\n",
              "      <th>421567</th>\n",
              "      <td>2012-10-12</td>\n",
              "      <td>1061.02</td>\n",
              "    </tr>\n",
              "    <tr>\n",
              "      <th>421568</th>\n",
              "      <td>2012-10-19</td>\n",
              "      <td>760.01</td>\n",
              "    </tr>\n",
              "    <tr>\n",
              "      <th>421569</th>\n",
              "      <td>2012-10-26</td>\n",
              "      <td>1076.80</td>\n",
              "    </tr>\n",
              "  </tbody>\n",
              "</table>\n",
              "<p>421570 rows × 2 columns</p>\n",
              "</div>\n",
              "      <button class=\"colab-df-convert\" onclick=\"convertToInteractive('df-1df2a22f-37e7-42e1-b48d-7bb78ee3bf15')\"\n",
              "              title=\"Convert this dataframe to an interactive table.\"\n",
              "              style=\"display:none;\">\n",
              "        \n",
              "  <svg xmlns=\"http://www.w3.org/2000/svg\" height=\"24px\"viewBox=\"0 0 24 24\"\n",
              "       width=\"24px\">\n",
              "    <path d=\"M0 0h24v24H0V0z\" fill=\"none\"/>\n",
              "    <path d=\"M18.56 5.44l.94 2.06.94-2.06 2.06-.94-2.06-.94-.94-2.06-.94 2.06-2.06.94zm-11 1L8.5 8.5l.94-2.06 2.06-.94-2.06-.94L8.5 2.5l-.94 2.06-2.06.94zm10 10l.94 2.06.94-2.06 2.06-.94-2.06-.94-.94-2.06-.94 2.06-2.06.94z\"/><path d=\"M17.41 7.96l-1.37-1.37c-.4-.4-.92-.59-1.43-.59-.52 0-1.04.2-1.43.59L10.3 9.45l-7.72 7.72c-.78.78-.78 2.05 0 2.83L4 21.41c.39.39.9.59 1.41.59.51 0 1.02-.2 1.41-.59l7.78-7.78 2.81-2.81c.8-.78.8-2.07 0-2.86zM5.41 20L4 18.59l7.72-7.72 1.47 1.35L5.41 20z\"/>\n",
              "  </svg>\n",
              "      </button>\n",
              "      \n",
              "  <style>\n",
              "    .colab-df-container {\n",
              "      display:flex;\n",
              "      flex-wrap:wrap;\n",
              "      gap: 12px;\n",
              "    }\n",
              "\n",
              "    .colab-df-convert {\n",
              "      background-color: #E8F0FE;\n",
              "      border: none;\n",
              "      border-radius: 50%;\n",
              "      cursor: pointer;\n",
              "      display: none;\n",
              "      fill: #1967D2;\n",
              "      height: 32px;\n",
              "      padding: 0 0 0 0;\n",
              "      width: 32px;\n",
              "    }\n",
              "\n",
              "    .colab-df-convert:hover {\n",
              "      background-color: #E2EBFA;\n",
              "      box-shadow: 0px 1px 2px rgba(60, 64, 67, 0.3), 0px 1px 3px 1px rgba(60, 64, 67, 0.15);\n",
              "      fill: #174EA6;\n",
              "    }\n",
              "\n",
              "    [theme=dark] .colab-df-convert {\n",
              "      background-color: #3B4455;\n",
              "      fill: #D2E3FC;\n",
              "    }\n",
              "\n",
              "    [theme=dark] .colab-df-convert:hover {\n",
              "      background-color: #434B5C;\n",
              "      box-shadow: 0px 1px 3px 1px rgba(0, 0, 0, 0.15);\n",
              "      filter: drop-shadow(0px 1px 2px rgba(0, 0, 0, 0.3));\n",
              "      fill: #FFFFFF;\n",
              "    }\n",
              "  </style>\n",
              "\n",
              "      <script>\n",
              "        const buttonEl =\n",
              "          document.querySelector('#df-1df2a22f-37e7-42e1-b48d-7bb78ee3bf15 button.colab-df-convert');\n",
              "        buttonEl.style.display =\n",
              "          google.colab.kernel.accessAllowed ? 'block' : 'none';\n",
              "\n",
              "        async function convertToInteractive(key) {\n",
              "          const element = document.querySelector('#df-1df2a22f-37e7-42e1-b48d-7bb78ee3bf15');\n",
              "          const dataTable =\n",
              "            await google.colab.kernel.invokeFunction('convertToInteractive',\n",
              "                                                     [key], {});\n",
              "          if (!dataTable) return;\n",
              "\n",
              "          const docLinkHtml = 'Like what you see? Visit the ' +\n",
              "            '<a target=\"_blank\" href=https://colab.research.google.com/notebooks/data_table.ipynb>data table notebook</a>'\n",
              "            + ' to learn more about interactive tables.';\n",
              "          element.innerHTML = '';\n",
              "          dataTable['output_type'] = 'display_data';\n",
              "          await google.colab.output.renderOutput(dataTable, element);\n",
              "          const docLink = document.createElement('div');\n",
              "          docLink.innerHTML = docLinkHtml;\n",
              "          element.appendChild(docLink);\n",
              "        }\n",
              "      </script>\n",
              "    </div>\n",
              "  </div>\n",
              "  "
            ]
          },
          "metadata": {},
          "execution_count": 83
        }
      ]
    },
    {
      "cell_type": "markdown",
      "source": [
        "Ambil hanya 5000 data"
      ],
      "metadata": {
        "id": "286o_GhuZ5vl"
      }
    },
    {
      "cell_type": "code",
      "source": [
        "df = df[:5000]"
      ],
      "metadata": {
        "id": "tDfqIUvnP5kH"
      },
      "execution_count": 84,
      "outputs": []
    },
    {
      "cell_type": "code",
      "source": [
        "dates = df['Date'].values\n",
        "sales = df[['Weekly_Sales']].values"
      ],
      "metadata": {
        "id": "Y_7janiHOWUK"
      },
      "execution_count": 85,
      "outputs": []
    },
    {
      "cell_type": "code",
      "source": [
        "plt.plot(dates, sales)\n",
        "plt.title('Sales Average',\n",
        "          fontsize=20)"
      ],
      "metadata": {
        "colab": {
          "base_uri": "https://localhost:8080/",
          "height": 303
        },
        "id": "ApnbyXFsOkTK",
        "outputId": "cddc6cd0-7117-42dc-87b9-f0ca4b4cab46"
      },
      "execution_count": 86,
      "outputs": [
        {
          "output_type": "execute_result",
          "data": {
            "text/plain": [
              "Text(0.5, 1.0, 'Sales Average')"
            ]
          },
          "metadata": {},
          "execution_count": 86
        },
        {
          "output_type": "display_data",
          "data": {
            "text/plain": [
              "<Figure size 432x288 with 1 Axes>"
            ],
            "image/png": "[encoded data removed]"
          },
          "metadata": {
            "needs_background": "light"
          }
        }
      ]
    },
    {
      "cell_type": "markdown",
      "source": [
        "Gunakan Scaler untuk normalisasi data"
      ],
      "metadata": {
        "id": "HSSGlq_YaA6c"
      }
    },
    {
      "cell_type": "code",
      "source": [
        "scaler = MinMaxScaler()\n",
        "scaled_sales = scaler.fit_transform(sales)"
      ],
      "metadata": {
        "id": "yhH1csMgO82x"
      },
      "execution_count": 87,
      "outputs": []
    },
    {
      "cell_type": "code",
      "source": [
        "scaled_sales"
      ],
      "metadata": {
        "colab": {
          "base_uri": "https://localhost:8080/"
        },
        "id": "DRJ1u5iHRL2A",
        "outputId": "ad2bc09a-d9d9-4d3c-e371-68a4a4fcab03"
      },
      "execution_count": 88,
      "outputs": [
        {
          "output_type": "execute_result",
          "data": {
            "text/plain": [
              "array([[0.15023103],\n",
              "       [0.27679134],\n",
              "       [0.25015499],\n",
              "       ...,\n",
              "       [0.02084545],\n",
              "       [0.01901169],\n",
              "       [0.01740479]])"
            ]
          },
          "metadata": {},
          "execution_count": 88
        }
      ]
    },
    {
      "cell_type": "code",
      "source": [
        "scaled_sales.shape"
      ],
      "metadata": {
        "colab": {
          "base_uri": "https://localhost:8080/"
        },
        "id": "j5ZreeQEVnCH",
        "outputId": "8f6e1e31-d48e-4ff5-8c26-9b21f8271eab"
      },
      "execution_count": 89,
      "outputs": [
        {
          "output_type": "execute_result",
          "data": {
            "text/plain": [
              "(5000, 1)"
            ]
          },
          "metadata": {},
          "execution_count": 89
        }
      ]
    },
    {
      "cell_type": "markdown",
      "source": [
        "Ubah dimensi array"
      ],
      "metadata": {
        "id": "F4P9853gaJd6"
      }
    },
    {
      "cell_type": "code",
      "source": [
        "scaled_sales = np.reshape(scaled_sales, newshape=(-1))"
      ],
      "metadata": {
        "id": "ZtVgTw22T9jN"
      },
      "execution_count": 90,
      "outputs": []
    },
    {
      "cell_type": "code",
      "source": [
        "scaled_sales.shape"
      ],
      "metadata": {
        "colab": {
          "base_uri": "https://localhost:8080/"
        },
        "id": "8CNmySb5WM8q",
        "outputId": "795f0e52-e816-49b3-a450-cbd097b56f53"
      },
      "execution_count": 91,
      "outputs": [
        {
          "output_type": "execute_result",
          "data": {
            "text/plain": [
              "(5000,)"
            ]
          },
          "metadata": {},
          "execution_count": 91
        }
      ]
    },
    {
      "cell_type": "code",
      "source": [
        "plt.plot(dates, scaled_sales)\n",
        "plt.title('Sales Average',\n",
        "          fontsize=20)"
      ],
      "metadata": {
        "colab": {
          "base_uri": "https://localhost:8080/",
          "height": 303
        },
        "id": "bdQE5wLnRVQq",
        "outputId": "1e632699-9f3b-4982-f656-67976308d3ca"
      },
      "execution_count": 92,
      "outputs": [
        {
          "output_type": "execute_result",
          "data": {
            "text/plain": [
              "Text(0.5, 1.0, 'Sales Average')"
            ]
          },
          "metadata": {},
          "execution_count": 92
        },
        {
          "output_type": "display_data",
          "data": {
            "text/plain": [
              "<Figure size 432x288 with 1 Axes>"
            ],
            "image/png": "[encoded data removed]"
          },
          "metadata": {
            "needs_background": "light"
          }
        }
      ]
    },
    {
      "cell_type": "markdown",
      "source": [
        "Bagi Dataset"
      ],
      "metadata": {
        "id": "qn745xgMaNPn"
      }
    },
    {
      "cell_type": "code",
      "source": [
        "sales_train, sales_test, dates_train, dates_test = train_test_split(scaled_sales, dates, test_size=0.2, random_state=1)"
      ],
      "metadata": {
        "id": "SXLk4WW2TIYR"
      },
      "execution_count": 93,
      "outputs": []
    },
    {
      "cell_type": "markdown",
      "source": [
        "Windowed dataset"
      ],
      "metadata": {
        "id": "7yhfJJRDaR5U"
      }
    },
    {
      "cell_type": "code",
      "source": [
        "def windowed_dataset(series, window_size, batch_size, shuffle_buffer):\n",
        "    series = tf.expand_dims(series, axis=-1)\n",
        "    ds = tf.data.Dataset.from_tensor_slices(series)\n",
        "    ds = ds.window(window_size + 1, shift=1, drop_remainder=True)\n",
        "    ds = ds.flat_map(lambda w: w.batch(window_size + 1))\n",
        "    ds = ds.shuffle(shuffle_buffer)\n",
        "    ds = ds.map(lambda w: (w[:-1], w[-1:]))\n",
        "    return ds.batch(batch_size).prefetch(1)"
      ],
      "metadata": {
        "id": "-lF9o8g_Rb8l"
      },
      "execution_count": 94,
      "outputs": []
    },
    {
      "cell_type": "code",
      "source": [
        "train_set = windowed_dataset(sales_train, window_size=30, batch_size=100, shuffle_buffer=1000)"
      ],
      "metadata": {
        "id": "eNU0F6VCS0Yw"
      },
      "execution_count": 95,
      "outputs": []
    },
    {
      "cell_type": "markdown",
      "source": [
        "Model"
      ],
      "metadata": {
        "id": "NAri1wpEaVUC"
      }
    },
    {
      "cell_type": "code",
      "source": [
        "model = tf.keras.models.Sequential([\n",
        "  tf.keras.layers.LSTM(128, return_sequences=True),\n",
        "  tf.keras.layers.Dropout(0.4),\n",
        "  tf.keras.layers.LSTM(64),\n",
        "  tf.keras.layers.Dropout(0.2),\n",
        "  tf.keras.layers.Dense(32, activation=\"relu\"),\n",
        "  tf.keras.layers.Dense(16, activation=\"relu\"),\n",
        "  tf.keras.layers.Dense(1),\n",
        "])"
      ],
      "metadata": {
        "id": "arr74EwSThKk"
      },
      "execution_count": 97,
      "outputs": []
    },
    {
      "cell_type": "markdown",
      "source": [
        "Optimizer"
      ],
      "metadata": {
        "id": "1QxIftsjal46"
      }
    },
    {
      "cell_type": "code",
      "source": [
        "optimizer = tf.keras.optimizers.SGD(learning_rate=1.0000e-04, momentum=0.9)\n",
        "model.compile(loss=tf.keras.losses.Huber(),\n",
        "              optimizer=optimizer,\n",
        "              metrics=[\"mae\"])"
      ],
      "metadata": {
        "id": "w146aVvPTkZL"
      },
      "execution_count": 98,
      "outputs": []
    },
    {
      "cell_type": "markdown",
      "source": [
        "Implementasi Callback"
      ],
      "metadata": {
        "id": "s7J1jRyPanlR"
      }
    },
    {
      "cell_type": "code",
      "source": [
        "def scheduler(epoch, lr):\n",
        "  if epoch < 10:\n",
        "    return lr\n",
        "  else:\n",
        "    return lr * tf.math.exp(-0.1)"
      ],
      "metadata": {
        "id": "1zmFvLGGapQO"
      },
      "execution_count": 99,
      "outputs": []
    },
    {
      "cell_type": "code",
      "source": [
        "my_callback = tf.keras.callbacks.LearningRateScheduler(scheduler)"
      ],
      "metadata": {
        "id": "wVTuyBTra6-k"
      },
      "execution_count": 100,
      "outputs": []
    },
    {
      "cell_type": "markdown",
      "source": [
        "Train Model"
      ],
      "metadata": {
        "id": "foBMe372bSrE"
      }
    },
    {
      "cell_type": "code",
      "source": [
        "history = model.fit(train_set,epochs=50, callbacks=[my_callback])"
      ],
      "metadata": {
        "colab": {
          "base_uri": "https://localhost:8080/"
        },
        "id": "2AaaQfDZTm52",
        "outputId": "f02472c1-b8ff-487d-da1f-56d450b485a3"
      },
      "execution_count": 101,
      "outputs": [
        {
          "output_type": "stream",
          "name": "stdout",
          "text": [
            "Epoch 1/50\n",
            "40/40 [==============================] - 9s 120ms/step - loss: 0.0073 - mae: 0.0866 - lr: 1.0000e-04\n",
            "Epoch 2/50\n",
            "40/40 [==============================] - 5s 120ms/step - loss: 0.0064 - mae: 0.0775 - lr: 1.0000e-04\n",
            "Epoch 3/50\n",
            "40/40 [==============================] - 5s 119ms/step - loss: 0.0057 - mae: 0.0709 - lr: 1.0000e-04\n",
            "Epoch 4/50\n",
            "40/40 [==============================] - 5s 120ms/step - loss: 0.0052 - mae: 0.0667 - lr: 1.0000e-04\n",
            "Epoch 5/50\n",
            "40/40 [==============================] - 5s 120ms/step - loss: 0.0047 - mae: 0.0638 - lr: 1.0000e-04\n",
            "Epoch 6/50\n",
            "40/40 [==============================] - 5s 121ms/step - loss: 0.0043 - mae: 0.0623 - lr: 1.0000e-04\n",
            "Epoch 7/50\n",
            "40/40 [==============================] - 5s 120ms/step - loss: 0.0041 - mae: 0.0619 - lr: 1.0000e-04\n",
            "Epoch 8/50\n",
            "40/40 [==============================] - 5s 122ms/step - loss: 0.0039 - mae: 0.0622 - lr: 1.0000e-04\n",
            "Epoch 9/50\n",
            "40/40 [==============================] - 5s 121ms/step - loss: 0.0038 - mae: 0.0624 - lr: 1.0000e-04\n",
            "Epoch 10/50\n",
            "40/40 [==============================] - 6s 149ms/step - loss: 0.0037 - mae: 0.0631 - lr: 1.0000e-04\n",
            "Epoch 11/50\n",
            "40/40 [==============================] - 5s 120ms/step - loss: 0.0036 - mae: 0.0637 - lr: 9.0484e-05\n",
            "Epoch 12/50\n",
            "40/40 [==============================] - 5s 119ms/step - loss: 0.0036 - mae: 0.0641 - lr: 8.1873e-05\n",
            "Epoch 13/50\n",
            "40/40 [==============================] - 5s 119ms/step - loss: 0.0036 - mae: 0.0645 - lr: 7.4082e-05\n",
            "Epoch 14/50\n",
            "40/40 [==============================] - 5s 121ms/step - loss: 0.0035 - mae: 0.0648 - lr: 6.7032e-05\n",
            "Epoch 15/50\n",
            "40/40 [==============================] - 5s 120ms/step - loss: 0.0035 - mae: 0.0651 - lr: 6.0653e-05\n",
            "Epoch 16/50\n",
            "40/40 [==============================] - 5s 121ms/step - loss: 0.0035 - mae: 0.0653 - lr: 5.4881e-05\n",
            "Epoch 17/50\n",
            "40/40 [==============================] - 5s 121ms/step - loss: 0.0035 - mae: 0.0654 - lr: 4.9659e-05\n",
            "Epoch 18/50\n",
            "40/40 [==============================] - 5s 121ms/step - loss: 0.0035 - mae: 0.0658 - lr: 4.4933e-05\n",
            "Epoch 19/50\n",
            "40/40 [==============================] - 5s 120ms/step - loss: 0.0035 - mae: 0.0658 - lr: 4.0657e-05\n",
            "Epoch 20/50\n",
            "40/40 [==============================] - 5s 121ms/step - loss: 0.0035 - mae: 0.0658 - lr: 3.6788e-05\n",
            "Epoch 21/50\n",
            "40/40 [==============================] - 6s 138ms/step - loss: 0.0035 - mae: 0.0660 - lr: 3.3287e-05\n",
            "Epoch 22/50\n",
            "40/40 [==============================] - 5s 122ms/step - loss: 0.0035 - mae: 0.0662 - lr: 3.0119e-05\n",
            "Epoch 23/50\n",
            "40/40 [==============================] - 5s 121ms/step - loss: 0.0035 - mae: 0.0660 - lr: 2.7253e-05\n",
            "Epoch 24/50\n",
            "40/40 [==============================] - 5s 121ms/step - loss: 0.0035 - mae: 0.0660 - lr: 2.4660e-05\n",
            "Epoch 25/50\n",
            "40/40 [==============================] - 5s 120ms/step - loss: 0.0035 - mae: 0.0662 - lr: 2.2313e-05\n",
            "Epoch 26/50\n",
            "40/40 [==============================] - 5s 121ms/step - loss: 0.0035 - mae: 0.0664 - lr: 2.0190e-05\n",
            "Epoch 27/50\n",
            "40/40 [==============================] - 5s 122ms/step - loss: 0.0035 - mae: 0.0663 - lr: 1.8268e-05\n",
            "Epoch 28/50\n",
            "40/40 [==============================] - 5s 121ms/step - loss: 0.0035 - mae: 0.0662 - lr: 1.6530e-05\n",
            "Epoch 29/50\n",
            "40/40 [==============================] - 5s 120ms/step - loss: 0.0035 - mae: 0.0664 - lr: 1.4957e-05\n",
            "Epoch 30/50\n",
            "40/40 [==============================] - 6s 149ms/step - loss: 0.0035 - mae: 0.0664 - lr: 1.3534e-05\n",
            "Epoch 31/50\n",
            "40/40 [==============================] - 5s 122ms/step - loss: 0.0035 - mae: 0.0664 - lr: 1.2246e-05\n",
            "Epoch 32/50\n",
            "40/40 [==============================] - 7s 173ms/step - loss: 0.0035 - mae: 0.0664 - lr: 1.1080e-05\n",
            "Epoch 33/50\n",
            "40/40 [==============================] - 5s 122ms/step - loss: 0.0035 - mae: 0.0664 - lr: 1.0026e-05\n",
            "Epoch 34/50\n",
            "40/40 [==============================] - 5s 121ms/step - loss: 0.0035 - mae: 0.0665 - lr: 9.0718e-06\n",
            "Epoch 35/50\n",
            "40/40 [==============================] - 5s 122ms/step - loss: 0.0035 - mae: 0.0665 - lr: 8.2085e-06\n",
            "Epoch 36/50\n",
            "40/40 [==============================] - 5s 121ms/step - loss: 0.0035 - mae: 0.0665 - lr: 7.4274e-06\n",
            "Epoch 37/50\n",
            "40/40 [==============================] - 5s 122ms/step - loss: 0.0035 - mae: 0.0665 - lr: 6.7206e-06\n",
            "Epoch 38/50\n",
            "40/40 [==============================] - 5s 123ms/step - loss: 0.0035 - mae: 0.0665 - lr: 6.0810e-06\n",
            "Epoch 39/50\n",
            "40/40 [==============================] - 5s 122ms/step - loss: 0.0035 - mae: 0.0665 - lr: 5.5023e-06\n",
            "Epoch 40/50\n",
            "40/40 [==============================] - 5s 122ms/step - loss: 0.0035 - mae: 0.0666 - lr: 4.9787e-06\n",
            "Epoch 41/50\n",
            "40/40 [==============================] - 5s 122ms/step - loss: 0.0035 - mae: 0.0663 - lr: 4.5049e-06\n",
            "Epoch 42/50\n",
            "40/40 [==============================] - 5s 121ms/step - loss: 0.0035 - mae: 0.0665 - lr: 4.0762e-06\n",
            "Epoch 43/50\n",
            "40/40 [==============================] - 5s 121ms/step - loss: 0.0035 - mae: 0.0666 - lr: 3.6883e-06\n",
            "Epoch 44/50\n",
            "40/40 [==============================] - 5s 122ms/step - loss: 0.0035 - mae: 0.0665 - lr: 3.3373e-06\n",
            "Epoch 45/50\n",
            "40/40 [==============================] - 5s 123ms/step - loss: 0.0035 - mae: 0.0664 - lr: 3.0197e-06\n",
            "Epoch 46/50\n",
            "40/40 [==============================] - 5s 122ms/step - loss: 0.0035 - mae: 0.0666 - lr: 2.7324e-06\n",
            "Epoch 47/50\n",
            "40/40 [==============================] - 5s 124ms/step - loss: 0.0035 - mae: 0.0665 - lr: 2.4724e-06\n",
            "Epoch 48/50\n",
            "40/40 [==============================] - 5s 122ms/step - loss: 0.0035 - mae: 0.0663 - lr: 2.2371e-06\n",
            "Epoch 49/50\n",
            "40/40 [==============================] - 5s 122ms/step - loss: 0.0035 - mae: 0.0665 - lr: 2.0242e-06\n",
            "Epoch 50/50\n",
            "40/40 [==============================] - 6s 150ms/step - loss: 0.0035 - mae: 0.0664 - lr: 1.8316e-06\n"
          ]
        }
      ]
    },
    {
      "cell_type": "markdown",
      "source": [
        "Plot Loss"
      ],
      "metadata": {
        "id": "dE_j-YS8cFDK"
      }
    },
    {
      "cell_type": "code",
      "source": [
        "loss = history.history['loss']\n",
        "plt.plot(loss)\n",
        "plt.ylabel('Loss')\n",
        "plt.xlabel('Epoch')\n",
        "plt.legend(['Train loss'], loc='upper right')\n",
        "plt.show()"
      ],
      "metadata": {
        "colab": {
          "base_uri": "https://localhost:8080/",
          "height": 279
        },
        "id": "ywT_GtSecERC",
        "outputId": "9ceb7f3b-760a-4e63-fd4f-c2538bd9ed66"
      },
      "execution_count": 102,
      "outputs": [
        {
          "output_type": "display_data",
          "data": {
            "text/plain": [
              "<Figure size 432x288 with 1 Axes>"
            ],
            "image/png": "[encoded data removed]"
          },
          "metadata": {
            "needs_background": "light"
          }
        }
      ]
    },
    {
      "cell_type": "markdown",
      "source": [
        "Plot Mae"
      ],
      "metadata": {
        "id": "LcxkWXNIcrF1"
      }
    },
    {
      "cell_type": "code",
      "source": [
        "mae = history.history['mae']\n",
        "plt.plot(loss)\n",
        "plt.ylabel('Mae')\n",
        "plt.xlabel('Epoch')\n",
        "plt.legend(['Mae'], loc='upper right')\n",
        "plt.show()"
      ],
      "metadata": {
        "colab": {
          "base_uri": "https://localhost:8080/",
          "height": 279
        },
        "id": "zZNuC7f6ctma",
        "outputId": "7fbf60dd-f2ea-4789-eb30-8762d09b6d99"
      },
      "execution_count": 103,
      "outputs": [
        {
          "output_type": "display_data",
          "data": {
            "text/plain": [
              "<Figure size 432x288 with 1 Axes>"
            ],
            "image/png": "[encoded data removed]"
          },
          "metadata": {
            "needs_background": "light"
          }
        }
      ]
    }
  ]
}